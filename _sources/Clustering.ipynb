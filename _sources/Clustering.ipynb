{
 "cells": [
  {
   "cell_type": "markdown",
   "metadata": {},
   "source": [
    "# K-Means Clustering"
   ]
  },
  {
   "cell_type": "markdown",
   "metadata": {},
   "source": [
    "import library yang dibutuhkan"
   ]
  },
  {
   "cell_type": "code",
   "execution_count": 1,
   "metadata": {},
   "outputs": [],
   "source": [
    "# Mengimpor library\n",
    "import numpy as np\n",
    "import matplotlib.pyplot as plt\n",
    "import pandas as pd\n",
    "from sklearn.cluster import KMeans"
   ]
  },
  {
   "cell_type": "markdown",
   "metadata": {},
   "source": [
    "import data yang akan digunakan"
   ]
  },
  {
   "cell_type": "code",
   "execution_count": 37,
   "metadata": {},
   "outputs": [
    {
     "data": {
      "text/html": [
       "<div>\n",
       "<style scoped>\n",
       "    .dataframe tbody tr th:only-of-type {\n",
       "        vertical-align: middle;\n",
       "    }\n",
       "\n",
       "    .dataframe tbody tr th {\n",
       "        vertical-align: top;\n",
       "    }\n",
       "\n",
       "    .dataframe thead th {\n",
       "        text-align: right;\n",
       "    }\n",
       "</style>\n",
       "<table border=\"1\" class=\"dataframe\">\n",
       "  <thead>\n",
       "    <tr style=\"text-align: right;\">\n",
       "      <th></th>\n",
       "      <th>Judul</th>\n",
       "      <th>Mahasiswa</th>\n",
       "      <th>Dosbing_1</th>\n",
       "      <th>Dosbing_2</th>\n",
       "      <th>Abstrak_indo</th>\n",
       "      <th>Abstract_english</th>\n",
       "    </tr>\n",
       "  </thead>\n",
       "  <tbody>\n",
       "    <tr>\n",
       "      <th>0</th>\n",
       "      <td>Analisis Inovasi Dan Keunggulan Bersaing \\r\\nD...</td>\n",
       "      <td>Penulis : Sandy Ardiansyah</td>\n",
       "      <td>Dosen Pembimbing I : Dr. Ir. Nurita Andriani, MM.</td>\n",
       "      <td>Dosen Pembimbing II :Suyono, S.E., M. S. M.</td>\n",
       "      <td>ABSTRAK\\r\\n\\tTujuan penelitian ini adalah mend...</td>\n",
       "      <td>ABSTRACT\\r\\nThe purpose of this study is to de...</td>\n",
       "    </tr>\n",
       "    <tr>\n",
       "      <th>1</th>\n",
       "      <td>Pengaruh Bauran Pemasaran Terhadap Keputusan P...</td>\n",
       "      <td>Penulis : Mahrus Saleh</td>\n",
       "      <td>Dosen Pembimbing I : Dr.H Pribanus Wantara, Dr...</td>\n",
       "      <td>Dosen Pembimbing II :Hadi Purnomo, SE., MM</td>\n",
       "      <td>Objek penelitian ini adalah pembelian produk X...</td>\n",
       "      <td>Object this research is consumer product of XL...</td>\n",
       "    </tr>\n",
       "    <tr>\n",
       "      <th>2</th>\n",
       "      <td>ANALISIS PORTOFOLIO YANG OPTIMAL DI BEI DENGAN...</td>\n",
       "      <td>Penulis : Mira Dwiastuti</td>\n",
       "      <td>Dosen Pembimbing I : Hj Evaliati Amaniyah, S.E...</td>\n",
       "      <td>Dosen Pembimbing II :Echsan Gani, S.E, M.Si</td>\n",
       "      <td>Suatu keputusan investasi selalu berhubungan d...</td>\n",
       "      <td>An investment decision is always associated wi...</td>\n",
       "    </tr>\n",
       "    <tr>\n",
       "      <th>3</th>\n",
       "      <td>PENGARUH KOMPETENSI DOSEN TERHADAP KINERJA DOS...</td>\n",
       "      <td>Penulis : Aththaariq</td>\n",
       "      <td>Dosen Pembimbing I : Dr.RM Moch Wispandono,.S....</td>\n",
       "      <td>Dosen Pembimbing II :Dr. Muhammad Alkirom Wild...</td>\n",
       "      <td>Abstrak\\r\\n\\r\\nAththaariq, Pengaruh Kompetensi...</td>\n",
       "      <td>Abstract\\r\\n\\r\\nThis study is aimed to analyze...</td>\n",
       "    </tr>\n",
       "    <tr>\n",
       "      <th>4</th>\n",
       "      <td>PENGARUH FAKTOR-FAKTOR PELATIHAN DAN PENGEMBAN...</td>\n",
       "      <td>Penulis : SATIYAH</td>\n",
       "      <td>Dosen Pembimbing I : Dra. Hj. S. Anugrahini Ir...</td>\n",
       "      <td>Dosen Pembimbing II :Helmi Buyung Aulia,S,ST.S...</td>\n",
       "      <td>ABSTRAK\\r\\...</td>\n",
       "      <td>ABSTRACT...</td>\n",
       "    </tr>\n",
       "  </tbody>\n",
       "</table>\n",
       "</div>"
      ],
      "text/plain": [
       "                                               Judul  \\\n",
       "0  Analisis Inovasi Dan Keunggulan Bersaing \\r\\nD...   \n",
       "1  Pengaruh Bauran Pemasaran Terhadap Keputusan P...   \n",
       "2  ANALISIS PORTOFOLIO YANG OPTIMAL DI BEI DENGAN...   \n",
       "3  PENGARUH KOMPETENSI DOSEN TERHADAP KINERJA DOS...   \n",
       "4  PENGARUH FAKTOR-FAKTOR PELATIHAN DAN PENGEMBAN...   \n",
       "\n",
       "                    Mahasiswa  \\\n",
       "0  Penulis : Sandy Ardiansyah   \n",
       "1      Penulis : Mahrus Saleh   \n",
       "2    Penulis : Mira Dwiastuti   \n",
       "3        Penulis : Aththaariq   \n",
       "4           Penulis : SATIYAH   \n",
       "\n",
       "                                           Dosbing_1  \\\n",
       "0  Dosen Pembimbing I : Dr. Ir. Nurita Andriani, MM.   \n",
       "1  Dosen Pembimbing I : Dr.H Pribanus Wantara, Dr...   \n",
       "2  Dosen Pembimbing I : Hj Evaliati Amaniyah, S.E...   \n",
       "3  Dosen Pembimbing I : Dr.RM Moch Wispandono,.S....   \n",
       "4  Dosen Pembimbing I : Dra. Hj. S. Anugrahini Ir...   \n",
       "\n",
       "                                           Dosbing_2  \\\n",
       "0        Dosen Pembimbing II :Suyono, S.E., M. S. M.   \n",
       "1         Dosen Pembimbing II :Hadi Purnomo, SE., MM   \n",
       "2        Dosen Pembimbing II :Echsan Gani, S.E, M.Si   \n",
       "3  Dosen Pembimbing II :Dr. Muhammad Alkirom Wild...   \n",
       "4  Dosen Pembimbing II :Helmi Buyung Aulia,S,ST.S...   \n",
       "\n",
       "                                        Abstrak_indo  \\\n",
       "0  ABSTRAK\\r\\n\\tTujuan penelitian ini adalah mend...   \n",
       "1  Objek penelitian ini adalah pembelian produk X...   \n",
       "2  Suatu keputusan investasi selalu berhubungan d...   \n",
       "3  Abstrak\\r\\n\\r\\nAththaariq, Pengaruh Kompetensi...   \n",
       "4                                      ABSTRAK\\r\\...   \n",
       "\n",
       "                                    Abstract_english  \n",
       "0  ABSTRACT\\r\\nThe purpose of this study is to de...  \n",
       "1  Object this research is consumer product of XL...  \n",
       "2  An investment decision is always associated wi...  \n",
       "3  Abstract\\r\\n\\r\\nThis study is aimed to analyze...  \n",
       "4                                        ABSTRACT...  "
      ]
     },
     "execution_count": 37,
     "metadata": {},
     "output_type": "execute_result"
    }
   ],
   "source": [
    "# Mengimpor dataset\n",
    "dataset = pd.read_csv('data.csv')\n",
    "dataset.head(5)"
   ]
  },
  {
   "cell_type": "markdown",
   "metadata": {},
   "source": [
    "maka dapat terlihat data yang akan kita proses"
   ]
  },
  {
   "cell_type": "markdown",
   "metadata": {},
   "source": [
    ">import library untuk proses stopword"
   ]
  },
  {
   "cell_type": "code",
   "execution_count": 38,
   "metadata": {},
   "outputs": [],
   "source": [
    "# import package\n",
    "from nltk.tokenize import word_tokenize\n",
    "from nltk.corpus import stopwords\n",
    "from sklearn.feature_extraction.text import CountVectorizer , TfidfVectorizer\n",
    "from string import punctuation\n",
    "sw_indo = stopwords.words('indonesian') + list(punctuation)"
   ]
  },
  {
   "cell_type": "markdown",
   "metadata": {},
   "source": [
    ">Buang kolom yang tidak diperlukan, dikarenakan kita hanya akan memproses data Abstrak indo saja"
   ]
  },
  {
   "cell_type": "code",
   "execution_count": 39,
   "metadata": {},
   "outputs": [],
   "source": [
    "dataset.drop(['Abstract_english','Mahasiswa', 'Dosbing_1', 'Dosbing_2'],axis=1,inplace=True)"
   ]
  },
  {
   "cell_type": "markdown",
   "metadata": {},
   "source": [
    ">kita cek datanya"
   ]
  },
  {
   "cell_type": "code",
   "execution_count": 41,
   "metadata": {},
   "outputs": [
    {
     "data": {
      "text/html": [
       "<div>\n",
       "<style scoped>\n",
       "    .dataframe tbody tr th:only-of-type {\n",
       "        vertical-align: middle;\n",
       "    }\n",
       "\n",
       "    .dataframe tbody tr th {\n",
       "        vertical-align: top;\n",
       "    }\n",
       "\n",
       "    .dataframe thead th {\n",
       "        text-align: right;\n",
       "    }\n",
       "</style>\n",
       "<table border=\"1\" class=\"dataframe\">\n",
       "  <thead>\n",
       "    <tr style=\"text-align: right;\">\n",
       "      <th></th>\n",
       "      <th>Judul</th>\n",
       "      <th>Abstrak_indo</th>\n",
       "    </tr>\n",
       "  </thead>\n",
       "  <tbody>\n",
       "    <tr>\n",
       "      <th>0</th>\n",
       "      <td>Analisis Inovasi Dan Keunggulan Bersaing \\r\\nD...</td>\n",
       "      <td>ABSTRAK\\r\\n\\tTujuan penelitian ini adalah mend...</td>\n",
       "    </tr>\n",
       "    <tr>\n",
       "      <th>1</th>\n",
       "      <td>Pengaruh Bauran Pemasaran Terhadap Keputusan P...</td>\n",
       "      <td>Objek penelitian ini adalah pembelian produk X...</td>\n",
       "    </tr>\n",
       "    <tr>\n",
       "      <th>2</th>\n",
       "      <td>ANALISIS PORTOFOLIO YANG OPTIMAL DI BEI DENGAN...</td>\n",
       "      <td>Suatu keputusan investasi selalu berhubungan d...</td>\n",
       "    </tr>\n",
       "    <tr>\n",
       "      <th>3</th>\n",
       "      <td>PENGARUH KOMPETENSI DOSEN TERHADAP KINERJA DOS...</td>\n",
       "      <td>Abstrak\\r\\n\\r\\nAththaariq, Pengaruh Kompetensi...</td>\n",
       "    </tr>\n",
       "    <tr>\n",
       "      <th>4</th>\n",
       "      <td>PENGARUH FAKTOR-FAKTOR PELATIHAN DAN PENGEMBAN...</td>\n",
       "      <td>ABSTRAK\\r\\...</td>\n",
       "    </tr>\n",
       "  </tbody>\n",
       "</table>\n",
       "</div>"
      ],
      "text/plain": [
       "                                               Judul  \\\n",
       "0  Analisis Inovasi Dan Keunggulan Bersaing \\r\\nD...   \n",
       "1  Pengaruh Bauran Pemasaran Terhadap Keputusan P...   \n",
       "2  ANALISIS PORTOFOLIO YANG OPTIMAL DI BEI DENGAN...   \n",
       "3  PENGARUH KOMPETENSI DOSEN TERHADAP KINERJA DOS...   \n",
       "4  PENGARUH FAKTOR-FAKTOR PELATIHAN DAN PENGEMBAN...   \n",
       "\n",
       "                                        Abstrak_indo  \n",
       "0  ABSTRAK\\r\\n\\tTujuan penelitian ini adalah mend...  \n",
       "1  Objek penelitian ini adalah pembelian produk X...  \n",
       "2  Suatu keputusan investasi selalu berhubungan d...  \n",
       "3  Abstrak\\r\\n\\r\\nAththaariq, Pengaruh Kompetensi...  \n",
       "4                                      ABSTRAK\\r\\...  "
      ]
     },
     "execution_count": 41,
     "metadata": {},
     "output_type": "execute_result"
    }
   ],
   "source": [
    "dataset.head(5)"
   ]
  },
  {
   "cell_type": "markdown",
   "metadata": {},
   "source": [
    "dapat dilihat bahwa kolom yang tidak diperlukan telah terhapus"
   ]
  },
  {
   "cell_type": "markdown",
   "metadata": {},
   "source": [
    ">Lakukan proses tokenisasi dataset"
   ]
  },
  {
   "cell_type": "code",
   "execution_count": 43,
   "metadata": {},
   "outputs": [
    {
     "name": "stderr",
     "output_type": "stream",
     "text": [
      "c:\\Users\\nyamb\\AppData\\Local\\Programs\\Python\\Python39\\lib\\site-packages\\sklearn\\feature_extraction\\text.py:396: UserWarning: Your stop_words may be inconsistent with your preprocessing. Tokenizing the stop words generated tokens ['``'] not in stop_words.\n",
      "  warnings.warn(\n"
     ]
    }
   ],
   "source": [
    "bow = TfidfVectorizer(ngram_range=(1, 2), tokenizer=word_tokenize, stop_words=sw_indo, min_df=5)\n",
    "bow_matrix = bow.fit_transform(dataset.Abstrak_indo)"
   ]
  },
  {
   "cell_type": "code",
   "execution_count": 44,
   "metadata": {},
   "outputs": [
    {
     "name": "stdout",
     "output_type": "stream",
     "text": [
      "(12, 45)\n",
      "          0         1         2         3         4         5         6   \\\n",
      "0   0.157056  0.185914  0.134013  0.185914  0.000000  0.000000  0.000000   \n",
      "1   0.000000  0.000000  0.127019  0.088106  0.264317  0.000000  0.000000   \n",
      "2   0.000000  0.000000  0.000000  0.000000  0.000000  0.522852  0.261426   \n",
      "3   0.097111  0.000000  0.165726  0.000000  0.000000  0.114955  0.114955   \n",
      "4   0.104047  0.000000  0.177564  0.000000  0.615829  0.000000  0.000000   \n",
      "5   0.081885  0.096931  0.069871  0.096931  0.000000  0.290794  0.096931   \n",
      "6   0.144754  0.171352  0.123516  0.000000  0.171352  0.000000  0.000000   \n",
      "7   0.000000  0.000000  0.087511  0.000000  0.000000  0.121403  0.121403   \n",
      "8   0.071675  0.084845  0.000000  0.000000  0.000000  0.254535  0.084845   \n",
      "9   0.079405  0.093996  0.135510  0.093996  0.187991  0.000000  0.000000   \n",
      "10  0.000000  0.000000  0.069165  0.095952  0.383807  0.000000  0.000000   \n",
      "11  0.052146  0.061728  0.044495  0.061728  0.308638  0.185183  0.061728   \n",
      "\n",
      "          7         8         9   ...        35        36        37        38  \\\n",
      "0   0.000000  0.000000  0.000000  ...  0.000000  0.000000  0.314112  0.203615   \n",
      "1   0.137392  0.206088  0.192989  ...  0.063509  0.096494  0.074430  0.096494   \n",
      "2   0.000000  0.000000  0.000000  ...  0.000000  0.000000  0.000000  0.000000   \n",
      "3   0.179261  0.089630  0.125900  ...  0.082863  0.000000  0.097111  0.000000   \n",
      "4   0.096032  0.096032  0.000000  ...  0.088782  0.000000  0.000000  0.000000   \n",
      "5   0.075577  0.226732  0.318481  ...  0.069871  0.106160  0.081885  0.106160   \n",
      "6   0.133603  0.133603  0.000000  ...  0.247032  0.000000  0.000000  0.000000   \n",
      "7   0.094658  0.000000  0.000000  ...  0.175022  0.000000  0.102558  0.000000   \n",
      "8   0.000000  0.330768  0.278770  ...  0.061159  0.092923  0.000000  0.000000   \n",
      "9   0.073288  0.219865  0.000000  ...  0.067755  0.000000  0.158810  0.102945   \n",
      "10  0.074813  0.149627  0.000000  ...  0.138330  0.105087  0.081058  0.000000   \n",
      "11  0.048129  0.240645  0.135209  ...  0.088990  0.067605  0.052146  0.067605   \n",
      "\n",
      "          39        40        41        42        43        44  \n",
      "0   0.144957  0.144957  0.000000  0.000000  0.000000  0.000000  \n",
      "1   0.000000  0.000000  0.323357  0.161678  0.096494  0.190528  \n",
      "2   0.203834  0.203834  0.000000  0.000000  0.000000  0.000000  \n",
      "3   0.000000  0.000000  0.000000  0.000000  0.000000  0.497178  \n",
      "4   0.096032  0.096032  0.000000  0.000000  0.000000  0.177564  \n",
      "5   0.075577  0.075577  0.444684  0.177874  0.106160  0.279484  \n",
      "6   0.133603  0.133603  0.000000  0.000000  0.000000  0.370548  \n",
      "7   0.000000  0.000000  0.334171  0.111390  0.000000  0.262533  \n",
      "8   0.066154  0.066154  0.155695  0.077847  0.092923  0.733907  \n",
      "9   0.073288  0.073288  0.431216  0.086243  0.000000  0.338774  \n",
      "10  0.074813  0.074813  0.176076  0.088038  0.105087  0.276660  \n",
      "11  0.048129  0.048129  0.339819  0.113273  0.067605  0.444952  \n",
      "\n",
      "[12 rows x 45 columns]\n"
     ]
    }
   ],
   "source": [
    "print(bow_matrix.shape)\n",
    "type(bow_matrix)\n",
    "df=pd.DataFrame(bow_matrix.toarray())\n",
    "print(df)\n",
    "idf=bow.idf_"
   ]
  },
  {
   "cell_type": "markdown",
   "metadata": {},
   "source": [
    ">Kita tentukan clusternya, disini saya menentukan akan ada 4 cluster"
   ]
  },
  {
   "cell_type": "code",
   "execution_count": 45,
   "metadata": {},
   "outputs": [],
   "source": [
    "kmeans = KMeans(n_clusters=4)"
   ]
  },
  {
   "cell_type": "code",
   "execution_count": 46,
   "metadata": {},
   "outputs": [
    {
     "data": {
      "text/plain": [
       "KMeans(n_clusters=4)"
      ]
     },
     "execution_count": 46,
     "metadata": {},
     "output_type": "execute_result"
    }
   ],
   "source": [
    "kmeans.fit(bow_matrix)"
   ]
  },
  {
   "cell_type": "code",
   "execution_count": 47,
   "metadata": {},
   "outputs": [
    {
     "data": {
      "text/plain": [
       "array([[0.15705578, 0.18591421, 0.13401278, 0.18591421, 0.        ,\n",
       "        0.        , 0.        , 0.        , 0.        , 0.        ,\n",
       "        0.68232322, 0.        , 0.        , 0.12402126, 0.13401278,\n",
       "        0.        , 0.        , 0.13401278, 0.        , 0.        ,\n",
       "        0.        , 0.        , 0.        , 0.1705808 , 0.34448988,\n",
       "        0.        , 0.        , 0.        , 0.20361533, 0.        ,\n",
       "        0.        , 0.        , 0.        , 0.        , 0.        ,\n",
       "        0.        , 0.        , 0.31411157, 0.20361533, 0.14495724,\n",
       "        0.14495724, 0.        , 0.        , 0.        , 0.        ],\n",
       "       [0.03839004, 0.04544407, 0.03934555, 0.02423282, 0.        ,\n",
       "        0.29739605, 0.14115136, 0.04255879, 0.139375  , 0.14931258,\n",
       "        0.0222342 , 0.        , 0.0917778 , 0.17825237, 0.10174632,\n",
       "        0.05458357, 0.05978054, 0.10174632, 0.05008175, 0.05008175,\n",
       "        0.11004796, 0.09360165, 0.11530877, 0.07792931, 0.32897365,\n",
       "        0.02654005, 0.02654005, 0.13555834, 0.        , 0.04611087,\n",
       "        0.05008175, 0.11241158, 0.05008175, 0.20863079, 0.02323081,\n",
       "        0.07651306, 0.04977086, 0.04611087, 0.02654005, 0.08639119,\n",
       "        0.08639119, 0.23363735, 0.0917778 , 0.04977086, 0.31898125],\n",
       "       [0.03288776, 0.03893077, 0.09404716, 0.08494511, 0.28618817,\n",
       "        0.04629568, 0.01543189, 0.08340567, 0.20405614, 0.08204955,\n",
       "        0.12150949, 0.06837365, 0.11230813, 0.08736157, 0.07852233,\n",
       "        0.05289022, 0.06890925, 0.02806252, 0.0761395 , 0.0761395 ,\n",
       "        0.08018762, 0.0738297 , 0.08520917, 0.07929021, 0.2399736 ,\n",
       "        0.06890925, 0.06890925, 0.12387609, 0.49681833, 0.09036695,\n",
       "        0.0761395 , 0.07826392, 0.05772942, 0.08894763, 0.04102478,\n",
       "        0.08964612, 0.06729661, 0.09161083, 0.06676101, 0.04905767,\n",
       "        0.04905767, 0.3176169 , 0.11230813, 0.06729661, 0.31272851],\n",
       "       [0.11530424, 0.0571174 , 0.15560192, 0.        , 0.2623938 ,\n",
       "        0.0383183 , 0.0383183 , 0.13629873, 0.10642196, 0.04196663,\n",
       "        0.10547391, 0.14948645, 0.        , 0.11478747, 0.02762103,\n",
       "        0.09817268, 0.        , 0.09838696, 0.08756457, 0.08756457,\n",
       "        0.14816562, 0.29534921, 0.06705286, 0.03766922, 0.2666576 ,\n",
       "        0.04196663, 0.04196663, 0.28358281, 0.        , 0.08062175,\n",
       "        0.08756457, 0.06188755, 0.1104964 , 0.19237777, 0.10452224,\n",
       "        0.13955897, 0.        , 0.03237036, 0.        , 0.0765452 ,\n",
       "        0.0765452 , 0.        , 0.        , 0.        , 0.34843004]])"
      ]
     },
     "execution_count": 47,
     "metadata": {},
     "output_type": "execute_result"
    }
   ],
   "source": [
    "kmeans.cluster_centers_"
   ]
  },
  {
   "cell_type": "code",
   "execution_count": 48,
   "metadata": {},
   "outputs": [
    {
     "data": {
      "text/plain": [
       "array([0, 2, 1, 3, 3, 1, 3, 1, 1, 2, 2, 2])"
      ]
     },
     "execution_count": 48,
     "metadata": {},
     "output_type": "execute_result"
    }
   ],
   "source": [
    "kmeans.labels_"
   ]
  },
  {
   "cell_type": "code",
   "execution_count": 50,
   "metadata": {},
   "outputs": [],
   "source": [
    "import numpy as np"
   ]
  },
  {
   "cell_type": "code",
   "execution_count": 51,
   "metadata": {},
   "outputs": [],
   "source": [
    "unique, counts = np.unique(kmeans.labels_, return_counts=True)"
   ]
  },
  {
   "cell_type": "code",
   "execution_count": 52,
   "metadata": {},
   "outputs": [
    {
     "data": {
      "text/plain": [
       "{0: 1, 1: 4, 2: 4, 3: 3}"
      ]
     },
     "execution_count": 52,
     "metadata": {},
     "output_type": "execute_result"
    }
   ],
   "source": [
    "dict_data = dict(zip(unique, counts))\n",
    "dict_data"
   ]
  },
  {
   "cell_type": "code",
   "execution_count": 53,
   "metadata": {},
   "outputs": [],
   "source": [
    "import seaborn as sns"
   ]
  },
  {
   "cell_type": "code",
   "execution_count": 66,
   "metadata": {},
   "outputs": [],
   "source": [
    "dataset[\"cluster\"] = kmeans.labels_"
   ]
  },
  {
   "cell_type": "code",
   "execution_count": 67,
   "metadata": {},
   "outputs": [
    {
     "data": {
      "text/plain": [
       "0.013766230299483496"
      ]
     },
     "execution_count": 67,
     "metadata": {},
     "output_type": "execute_result"
    }
   ],
   "source": [
    "kmeans.inertia_"
   ]
  },
  {
   "cell_type": "code",
   "execution_count": 68,
   "metadata": {},
   "outputs": [
    {
     "data": {
      "text/plain": [
       "<bound method KMeans.score of KMeans(n_clusters=4, random_state=42)>"
      ]
     },
     "execution_count": 68,
     "metadata": {},
     "output_type": "execute_result"
    }
   ],
   "source": [
    "kmeans.score"
   ]
  },
  {
   "cell_type": "code",
   "execution_count": 71,
   "metadata": {},
   "outputs": [
    {
     "data": {
      "text/html": [
       "<div>\n",
       "<style scoped>\n",
       "    .dataframe tbody tr th:only-of-type {\n",
       "        vertical-align: middle;\n",
       "    }\n",
       "\n",
       "    .dataframe tbody tr th {\n",
       "        vertical-align: top;\n",
       "    }\n",
       "\n",
       "    .dataframe thead th {\n",
       "        text-align: right;\n",
       "    }\n",
       "</style>\n",
       "<table border=\"1\" class=\"dataframe\">\n",
       "  <thead>\n",
       "    <tr style=\"text-align: right;\">\n",
       "      <th></th>\n",
       "      <th>Judul</th>\n",
       "      <th>Abstrak_indo</th>\n",
       "      <th>Cluster</th>\n",
       "    </tr>\n",
       "  </thead>\n",
       "  <tbody>\n",
       "    <tr>\n",
       "      <th>0</th>\n",
       "      <td>Analisis Inovasi Dan Keunggulan Bersaing \\r\\nD...</td>\n",
       "      <td>ABSTRAK\\r\\n\\tTujuan penelitian ini adalah mend...</td>\n",
       "      <td>2</td>\n",
       "    </tr>\n",
       "    <tr>\n",
       "      <th>1</th>\n",
       "      <td>Pengaruh Bauran Pemasaran Terhadap Keputusan P...</td>\n",
       "      <td>Objek penelitian ini adalah pembelian produk X...</td>\n",
       "      <td>0</td>\n",
       "    </tr>\n",
       "    <tr>\n",
       "      <th>2</th>\n",
       "      <td>ANALISIS PORTOFOLIO YANG OPTIMAL DI BEI DENGAN...</td>\n",
       "      <td>Suatu keputusan investasi selalu berhubungan d...</td>\n",
       "      <td>3</td>\n",
       "    </tr>\n",
       "    <tr>\n",
       "      <th>3</th>\n",
       "      <td>PENGARUH KOMPETENSI DOSEN TERHADAP KINERJA DOS...</td>\n",
       "      <td>Abstrak\\r\\n\\r\\nAththaariq, Pengaruh Kompetensi...</td>\n",
       "      <td>0</td>\n",
       "    </tr>\n",
       "    <tr>\n",
       "      <th>4</th>\n",
       "      <td>PENGARUH FAKTOR-FAKTOR PELATIHAN DAN PENGEMBAN...</td>\n",
       "      <td>ABSTRAK\\r\\...</td>\n",
       "      <td>0</td>\n",
       "    </tr>\n",
       "    <tr>\n",
       "      <th>5</th>\n",
       "      <td>analisis faktor-faktor yang berpengaruh terhad...</td>\n",
       "      <td>ABSTRAK\\r\\nTujuan penelitian ini adalah untuk ...</td>\n",
       "      <td>1</td>\n",
       "    </tr>\n",
       "    <tr>\n",
       "      <th>6</th>\n",
       "      <td>Pengaruh Kompensasi Terhadap Kinerja Karywan p...</td>\n",
       "      <td>ABSTRAK \\r\\n\\r\\n\\tTujuan penelitian ini adalah...</td>\n",
       "      <td>2</td>\n",
       "    </tr>\n",
       "    <tr>\n",
       "      <th>7</th>\n",
       "      <td>PENGARUH STRUKTUR MODAL DAN LIKUIDITAS TERHADA...</td>\n",
       "      <td>Pendekatan penelitian yang digunakan dalam pen...</td>\n",
       "      <td>3</td>\n",
       "    </tr>\n",
       "    <tr>\n",
       "      <th>8</th>\n",
       "      <td>PENGARUH KUALITAS PELAYANAN TERHADAP KEPUASAN ...</td>\n",
       "      <td>ABSTRAK\\r\\n\\r\\nTujuan penelitian ini adalah un...</td>\n",
       "      <td>1</td>\n",
       "    </tr>\n",
       "    <tr>\n",
       "      <th>9</th>\n",
       "      <td>PENGARUH PERILAKU KONSUMEN TERHADAP KEPUTUSAN ...</td>\n",
       "      <td>ABSTRAK\\r\\nTujuan penelitian ini adalah untuk ...</td>\n",
       "      <td>2</td>\n",
       "    </tr>\n",
       "    <tr>\n",
       "      <th>10</th>\n",
       "      <td>PENGARUH PERSEPSI NILAI TERHADAP KEPUASAN PELA...</td>\n",
       "      <td>Tujuan penelitian ini adalah untuk mengetahui ...</td>\n",
       "      <td>3</td>\n",
       "    </tr>\n",
       "    <tr>\n",
       "      <th>11</th>\n",
       "      <td>PENGARUH HARGA DAN KUALITAS PRODUK TERHADAP KE...</td>\n",
       "      <td>ABSTRAK \\r\\nTujuan penelitian ini adalah (1) U...</td>\n",
       "      <td>1</td>\n",
       "    </tr>\n",
       "  </tbody>\n",
       "</table>\n",
       "</div>"
      ],
      "text/plain": [
       "                                                Judul  \\\n",
       "0   Analisis Inovasi Dan Keunggulan Bersaing \\r\\nD...   \n",
       "1   Pengaruh Bauran Pemasaran Terhadap Keputusan P...   \n",
       "2   ANALISIS PORTOFOLIO YANG OPTIMAL DI BEI DENGAN...   \n",
       "3   PENGARUH KOMPETENSI DOSEN TERHADAP KINERJA DOS...   \n",
       "4   PENGARUH FAKTOR-FAKTOR PELATIHAN DAN PENGEMBAN...   \n",
       "5   analisis faktor-faktor yang berpengaruh terhad...   \n",
       "6   Pengaruh Kompensasi Terhadap Kinerja Karywan p...   \n",
       "7   PENGARUH STRUKTUR MODAL DAN LIKUIDITAS TERHADA...   \n",
       "8   PENGARUH KUALITAS PELAYANAN TERHADAP KEPUASAN ...   \n",
       "9   PENGARUH PERILAKU KONSUMEN TERHADAP KEPUTUSAN ...   \n",
       "10  PENGARUH PERSEPSI NILAI TERHADAP KEPUASAN PELA...   \n",
       "11  PENGARUH HARGA DAN KUALITAS PRODUK TERHADAP KE...   \n",
       "\n",
       "                                         Abstrak_indo  Cluster  \n",
       "0   ABSTRAK\\r\\n\\tTujuan penelitian ini adalah mend...        2  \n",
       "1   Objek penelitian ini adalah pembelian produk X...        0  \n",
       "2   Suatu keputusan investasi selalu berhubungan d...        3  \n",
       "3   Abstrak\\r\\n\\r\\nAththaariq, Pengaruh Kompetensi...        0  \n",
       "4                                       ABSTRAK\\r\\...        0  \n",
       "5   ABSTRAK\\r\\nTujuan penelitian ini adalah untuk ...        1  \n",
       "6   ABSTRAK \\r\\n\\r\\n\\tTujuan penelitian ini adalah...        2  \n",
       "7   Pendekatan penelitian yang digunakan dalam pen...        3  \n",
       "8   ABSTRAK\\r\\n\\r\\nTujuan penelitian ini adalah un...        1  \n",
       "9   ABSTRAK\\r\\nTujuan penelitian ini adalah untuk ...        2  \n",
       "10  Tujuan penelitian ini adalah untuk mengetahui ...        3  \n",
       "11  ABSTRAK \\r\\nTujuan penelitian ini adalah (1) U...        1  "
      ]
     },
     "execution_count": 71,
     "metadata": {},
     "output_type": "execute_result"
    }
   ],
   "source": [
    "dataset"
   ]
  },
  {
   "cell_type": "markdown",
   "metadata": {},
   "source": [
    "Dapat dilihat bahwa tiap dokumen sudah mempunyai cluster masing masing"
   ]
  },
  {
   "cell_type": "markdown",
   "metadata": {},
   "source": [
    ">Melakukan slicing dari dataset yang dimiliki, yaitu kolom ke 1 (Judul) dan 2 (Abstrak_indo) "
   ]
  },
  {
   "cell_type": "code",
   "execution_count": 72,
   "metadata": {},
   "outputs": [],
   "source": [
    "X = df.iloc[:, [1, 2]].values"
   ]
  },
  {
   "cell_type": "markdown",
   "metadata": {},
   "source": [
    ">menampilkan plot dari skor wcss yang telah dihitung"
   ]
  },
  {
   "cell_type": "code",
   "execution_count": 73,
   "metadata": {},
   "outputs": [
    {
     "data": {
      "image/png": "[encoded data removed]",
      "text/plain": [
       "<Figure size 432x288 with 1 Axes>"
      ]
     },
     "metadata": {
      "needs_background": "light"
     },
     "output_type": "display_data"
    }
   ],
   "source": [
    "# Menggunakan metode elbow untuk menentukan angka cluster yang tepat\n",
    "from sklearn.cluster import KMeans\n",
    "wcss = []\n",
    "for i in range(1, 5):\n",
    "    kmeans = KMeans(n_clusters = i, init = 'k-means++', random_state = 42)\n",
    "    kmeans.fit(X)\n",
    "    wcss.append(kmeans.inertia_)\n",
    "plt.plot(range(1, 5), wcss)\n",
    "plt.title('Metode Elbow')\n",
    "plt.xlabel('Jumlah clusters')\n",
    "plt.ylabel('WCSS')\n",
    "plt.show()"
   ]
  },
  {
   "cell_type": "markdown",
   "metadata": {},
   "source": [
    ">Melakukan K-Means clustering terhadap objek kmeans, lalu kita lakukan prediksi seperti apa pengelompokan klusternya jika kita pilih K=4"
   ]
  },
  {
   "cell_type": "code",
   "execution_count": 74,
   "metadata": {},
   "outputs": [],
   "source": [
    "# Menjalankan K-Means Clustering ke dataset\n",
    "kmeans = KMeans(n_clusters = 4, init = 'k-means++', random_state = 42)\n",
    "y_kmeans = kmeans.fit_predict(X)"
   ]
  },
  {
   "cell_type": "markdown",
   "metadata": {},
   "source": [
    ">Lalu kita visualisasikan hasilnya"
   ]
  },
  {
   "cell_type": "code",
   "execution_count": 78,
   "metadata": {},
   "outputs": [
    {
     "data": {
      "image/png": "[encoded data removed]",
      "text/plain": [
       "<Figure size 432x288 with 1 Axes>"
      ]
     },
     "metadata": {
      "needs_background": "light"
     },
     "output_type": "display_data"
    }
   ],
   "source": [
    "# Visualisasi hasil clusters\n",
    "plt.scatter(X[y_kmeans == 0, 0], X[y_kmeans == 0, 1], s = 100, c = 'red', label = 'Cluster 0')\n",
    "plt.scatter(X[y_kmeans == 1, 0], X[y_kmeans == 1, 1], s = 100, c = 'blue', label = 'Cluster 1')\n",
    "plt.scatter(X[y_kmeans == 2, 0], X[y_kmeans == 2, 1], s = 100, c = 'green', label = 'Cluster 2')\n",
    "plt.scatter(X[y_kmeans == 3, 0], X[y_kmeans == 3, 1], s = 100, c = 'black', label = 'Cluster 3')\n",
    "plt.scatter(kmeans.cluster_centers_[:, 0], kmeans.cluster_centers_[:, 1], s = 300, c = 'yellow', label = 'Centroids')\n",
    "plt.title('Cluster Abstrak PTA')\n",
    "plt.legend()\n",
    "plt.show()"
   ]
  },
  {
   "cell_type": "markdown",
   "metadata": {},
   "source": [
    "Kita ingin menampilkan scatter plot, sehingga perintahnya adalah plt.scatter. Parameter untuk plt.scatter adalah sumbu x, kemudian diikuti sumbu y nya. \n",
    "\n",
    "Kemudian untuk sumbu x nya ditulis X[y_kmeans == 0, 0] artinya data poin nya berasal dari objek X. Penulisan y_kmeans == 0 adalah untuk mewakili baris X yang dipilih, yaitu baris yang clusternya masuk ke cluster 1 (urutan dimulai dari nol).\n",
    "\n",
    "Untuk kolomnya mudah saja, karena ia adalah data Judul, maka kolom 1 objek X yang kita pilih, sehingga penulisannya setelah\n",
    "y_kmeans == 0 adalah koma, kemudian diikuti nol.\n",
    "\n",
    "Untuk sumbu y nya, ditulis X[y_kmeans == 0, 1] di mana bisa langsung dilihat bahwa kolom untuk Abstrak Indo adalah kolom ke 2, ditulis 1 di python.\n",
    "\n",
    "Begitu seterusnya sampai kluster kelima."
   ]
  }
 ],
 "metadata": {
  "kernelspec": {
   "display_name": "Python 3.9.1 64-bit",
   "language": "python",
   "name": "python3"
  },
  "language_info": {
   "codemirror_mode": {
    "name": "ipython",
    "version": 3
   },
   "file_extension": ".py",
   "mimetype": "text/x-python",
   "name": "python",
   "nbconvert_exporter": "python",
   "pygments_lexer": "ipython3",
   "version": "3.9.1"
  },
  "orig_nbformat": 4,
  "vscode": {
   "interpreter": {
    "hash": "d2f50273f46bff6fba023c2dfce614ab0d56fe9941f21ee4698635d2ffd9f27a"
   }
  }
 },
 "nbformat": 4,
 "nbformat_minor": 2
}
